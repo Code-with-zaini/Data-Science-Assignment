{
 "cells": [
  {
   "cell_type": "markdown",
   "id": "7f769b06-4162-4f9a-8adf-33e535f9ad19",
   "metadata": {},
   "source": [
    "# Data Science Tools and Ecosystem"
   ]
  },
  {
   "cell_type": "markdown",
   "id": "d8de9bbc-0975-42df-b2d6-ee04d05ceaee",
   "metadata": {},
   "source": [
    "## In this notebook, Data Science Tools and Ecosystem are summarized "
   ]
  },
  {
   "cell_type": "markdown",
   "id": "d926cfdd-ad9a-4367-81b8-bb331dc8da64",
   "metadata": {},
   "source": [
    "**Objectives:**\n",
    "\n",
    "- List popular languages for Data Science\n",
    "- List commonly used libraries for Data Science\n",
    "- Show simple arithmetic operations in Python\n",
    "- Convert units (minutes to hours)\n",
    "- Explore Data Science tools\n"
   ]
  },
  {
   "cell_type": "markdown",
   "id": "ab04c59e-b620-4125-abed-998ee46197d3",
   "metadata": {},
   "source": [
    "### Some of the popular language that Data Scientists use are:\n",
    "1. Python \n",
    "2. R\n",
    "3. SQL\n",
    "4. Java\n",
    "5. C++\n",
    "6. Julia \n",
    "7. Scala"
   ]
  },
  {
   "cell_type": "markdown",
   "id": "71f77ae0-fe9d-4eec-b3de-b724797f7eff",
   "metadata": {},
   "source": [
    "### Some of the commomly used libraries used by Data Scientists include:\n",
    "1. Pandas\n",
    "2. Numpy\n",
    "3. Matplotlib\n",
    "4. Scipy\n",
    "5. Seaborn"
   ]
  },
  {
   "cell_type": "markdown",
   "id": "f5f43298-543f-46ca-9e97-2b1439b8f32e",
   "metadata": {},
   "source": [
    "| Data Science Tools |\n",
    "|--------------------|\n",
    "| Jupyter NoteBook |\n",
    "| Rstudio |\n",
    "| VS code |"
   ]
  },
  {
   "cell_type": "markdown",
   "id": "3fbe74c8-0731-4ad6-897c-9d984210679f",
   "metadata": {},
   "source": [
    "### Below are a few examples of evaluating airthmetic expressions in Python"
   ]
  },
  {
   "cell_type": "code",
   "execution_count": 2,
   "id": "b9726a1b-4ff1-45c0-bb70-12c3df8927ce",
   "metadata": {},
   "outputs": [
    {
     "data": {
      "text/plain": [
       "17"
      ]
     },
     "execution_count": 2,
     "metadata": {},
     "output_type": "execute_result"
    }
   ],
   "source": [
    "# This is a simple airthmetic expression to multiply then add integers\n",
    "(3*4)+5"
   ]
  },
  {
   "cell_type": "code",
   "execution_count": null,
   "id": "0c240563-e593-45e5-859f-93d7743515e5",
   "metadata": {},
   "outputs": [
    {
     "data": {
      "text/plain": [
       "3.3333333333333335"
      ]
     },
     "execution_count": 3,
     "metadata": {},
     "output_type": "execute_result"
    }
   ],
   "source": [
    "# This will convert 200 minutes to hours by dividing by 60\n",
    "200/60"
   ]
  },
  {
   "cell_type": "markdown",
   "id": "462d18f7-6ee3-4f67-a884-f045d2de2176",
   "metadata": {},
   "source": [
    "## Author \n",
    "Zain Ul Haq"
   ]
  }
 ],
 "metadata": {
  "kernelspec": {
   "display_name": "Python 3.13",
   "language": "python",
   "name": "python313"
  },
  "language_info": {
   "codemirror_mode": {
    "name": "ipython",
    "version": 3
   },
   "file_extension": ".py",
   "mimetype": "text/x-python",
   "name": "python",
   "nbconvert_exporter": "python",
   "pygments_lexer": "ipython3",
   "version": "3.13.7"
  }
 },
 "nbformat": 4,
 "nbformat_minor": 5
}
